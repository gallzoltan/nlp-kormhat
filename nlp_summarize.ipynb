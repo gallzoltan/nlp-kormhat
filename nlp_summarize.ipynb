{
 "cells": [
  {
   "cell_type": "code",
   "execution_count": null,
   "metadata": {},
   "outputs": [],
   "source": [
    "import os\n",
    "import nlpcloud\n",
    "from dotenv import load_dotenv"
   ]
  },
  {
   "cell_type": "code",
   "execution_count": 2,
   "metadata": {},
   "outputs": [],
   "source": [
    "load_dotenv()\n",
    "nlp_key = os.getenv('NLP_KEY')\n",
    "client = nlpcloud.Client(\"bart-large-cnn\", nlp_key, gpu=False, lang=\"hu\")"
   ]
  },
  {
   "cell_type": "code",
   "execution_count": 3,
   "metadata": {},
   "outputs": [],
   "source": [
    "text = \"\"\"\n",
    "526 M A G Y A R K Ö Z L Ö N Y • 2023. évi 16. szám\n",
    "A Kormány 1017/2023. (I. 31.) Korm. határozata\n",
    "a Kenderes Város Önkormányzata kötelező feladatainak ellátásához nyújtandó többlettámogatásról\n",
    "A Kormány\n",
    "1. az államháztartásról szóló 2011. évi CXCV. törvény (a továbbiakban: Áht.) 33. § (1) bekezdésében biztosított\n",
    "jogkörében eljárva elrendeli a Magyarország 2023. évi központi költségvetéséről szóló 2022. évi XXV. törvénynek\n",
    "(a továbbiakban: Kvtv.) a Magyarország 2023. évi központi költségvetésének a veszélyhelyzettel összefüggő\n",
    "eltérő szabályairól szóló 613/2022. (XII. 29.) Korm. rendelet [a továbbiakban: 613/2022. (XII. 29.) Korm. rendelet]\n",
    "1. mellékletével eltérően megállapított IX. Helyi önkormányzatok támogatásai fejezete címrendjének a 10. Kenderes\n",
    "Város Önkormányzata kötelező feladataihoz kapcsolódó működési kiadások támogatása címmel történő\n",
    "kiegészítését;\n",
    "Felelős: pénzügyminiszter\n",
    "belügyminiszter\n",
    "Határidő: azonnal\n",
    "2. az Áht. 33. § (2) bekezdésében biztosított jogkörében eljárva – a kötelező feladatok ellátásához szükséges\n",
    "működési célú támogatásként – 15 000 000 forint egyszeri átcsoportosítását rendeli el a Kvtv. 613/2022. (XII. 29.)\n",
    "Korm. rendelet 1. mellékletével eltérően megállapított IX. Helyi önkormányzatok támogatásai fejezet, 2. A helyi\n",
    "önkormányzatok működési célú kiegészítő támogatásai cím, 1. A helyi önkormányzatok általános feladatainak\n",
    "működési célú támogatása alcím terhére, a Kvtv. 613/2022. (XII. 29.) Korm. rendelet 1. mellékletével eltérően\n",
    "megállapított IX. Helyi önkormányzatok támogatásai fejezet, 10. Kenderes Város Önkormányzata kötelező\n",
    "feladataihoz kapcsolódó működési kiadások támogatása cím javára, az 1. melléklet szerint;\n",
    "Felelős: pénzügyminiszter\n",
    "Határidő: azonnal\n",
    "3. egyetért azzal, hogy a belügyminiszter a 2. pont szerint átcsoportosított forrás terhére külön pályázat és\n",
    "kérelem benyújtása nélkül vissza nem térítendő egyedi támogatást nyújtson Kenderes Város Önkormányzata\n",
    "(a továbbiakban: Önkormányzat) részére támogatási előlegként, a támogatás felhasználásának és elszámolásának\n",
    "részletes feltételeit meghatározó támogatói okirat alapján, azzal, hogy a támogatói okiratban rögzítse, hogy\n",
    "ha az Önkormányzat a 2024. évben legalább az egyedi támogatás mértékét elérő helyi iparűzési adó bevételre\n",
    "tesz szert, úgy legkésőbb 2024. május 15. napjáig a támogatást köteles visszafizetni a központi költségvetés javára;\n",
    "4. egyetért azzal, hogy a belügyminiszter a 3. pont szerinti egyedi költségvetési támogatást a támogatói okirat\n",
    "kiadását követően – 2023. december 31-i felhasználási határidő meghatározásával – folyósítsa az Önkormányzat\n",
    "számára.\n",
    "Orbán Viktor s. k.,\n",
    "miniszterelnök\n",
    "\"\"\""
   ]
  },
  {
   "cell_type": "code",
   "execution_count": 4,
   "metadata": {},
   "outputs": [
    {
     "data": {
      "text/plain": [
       "{'summary_text': 'A Kenderes Város Önkormányzata részére kötelező feladatainak ellátásához nyújtandó kiegészítő támogatásról szóló 1017/2023 (I. 31.) Korm. határozat. 15 000 000 forintot a Kvtv. költségvetéséből átcsoportosítandó 15 000 000 forintot. 613/2022.'}"
      ]
     },
     "execution_count": 4,
     "metadata": {},
     "output_type": "execute_result"
    }
   ],
   "source": [
    "client.summarization(text, size=\"small\")\n"
   ]
  }
 ],
 "metadata": {
  "kernelspec": {
   "display_name": ".venv",
   "language": "python",
   "name": "python3"
  },
  "language_info": {
   "codemirror_mode": {
    "name": "ipython",
    "version": 3
   },
   "file_extension": ".py",
   "mimetype": "text/x-python",
   "name": "python",
   "nbconvert_exporter": "python",
   "pygments_lexer": "ipython3",
   "version": "3.10.8"
  },
  "orig_nbformat": 4,
  "vscode": {
   "interpreter": {
    "hash": "0033b05851bc1c4f7fe0275340f7f6cfc38d6eff0f285372ffbf5b5dde544c7b"
   }
  }
 },
 "nbformat": 4,
 "nbformat_minor": 2
}
