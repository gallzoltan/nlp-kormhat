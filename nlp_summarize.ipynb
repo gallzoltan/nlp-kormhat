{
 "cells": [
  {
   "cell_type": "code",
   "execution_count": 31,
   "metadata": {},
   "outputs": [],
   "source": [
    "import os\n",
    "import nlpcloud\n",
    "from dotenv import load_dotenv"
   ]
  },
  {
   "cell_type": "code",
   "execution_count": 22,
   "metadata": {},
   "outputs": [],
   "source": [
    "load_dotenv()\n",
    "nlp_key = os.getenv('NLP_KEY')\n",
    "client = nlpcloud.Client(\"bart-large-cnn\", nlp_key, gpu=False, lang=\"hu\")"
   ]
  },
  {
   "cell_type": "code",
   "execution_count": 23,
   "metadata": {},
   "outputs": [],
   "source": [
    "text = \"\"\"\n",
    "A Kormány 1035/2022. (II. 1.) Korm. határozata\n",
    "helyi önkormányzatok támogatásáról, helyi önkormányzatokat érintő kormányhatározatok módosításáról\n",
    "1. A Kormány\n",
    "a) az államháztartásról szóló 2011. évi CXCV. törvény (a továbbiakban: Áht.) 33. § (1) bekezdésében\n",
    "biztosított jogkörében eljárva elrendeli a Magyarország 2022. évi központi költségvetéséről szóló 2021. évi\n",
    "XC. törvény (a továbbiakban: Kvtv.) 1. melléklet IX. Helyi önkormányzatok támogatásai fejezet címrendjének\n",
    "a 18. Települési önkormányzatok fejlesztési és működési támogatása címmel és az 1. melléklet szerinti\n",
    "alcímekkel történő kiegészítését;\n",
    "Felelős: pénzügyminiszter\n",
    "belügyminiszter\n",
    "Határidő: azonnal\n",
    "b) az Áht. 33. § (2) bekezdésében biztosított jogkörében eljárva - a települési önkormányzatok támogatása\n",
    "érdekében - elrendeli a Kvtv. 1. melléklet IX. Helyi önkormányzatok támogatásai fejezet, 2. A helyi\n",
    "önkormányzatok működési célú kiegészítő támogatásai cím, 1. A helyi önkormányzatok általános\n",
    "feladatainak működési célú támogatása alcím terhére 1 004 915 950 forint egyszeri átcsoportosítását\n",
    "a Kvtv. 1. melléklet IX. Helyi önkormányzatok támogatásai fejezet, 18. Települési önkormányzatok fejlesztési\n",
    "és működési támogatása cím 1. melléklet szerinti alcímei javára, a 2. melléklet szerint;\n",
    "Felelős: pénzügyminiszter\n",
    "belügyminiszter\n",
    "Határidő: azonnal\n",
    "\n",
    "Orbán Viktor s. k.,\n",
    "miniszterelnök\n",
    "\"\"\""
   ]
  },
  {
   "cell_type": "code",
   "execution_count": 30,
   "metadata": {},
   "outputs": [
    {
     "data": {
      "text/plain": [
       "{'summary_text': 'A Kormány 1035/2022 (II. 1.) Korm. határozata a helyi önkormányzatok támogatásáról és a helyi önkormányzatokat érintő kormányhatározatok módosításáról. A Kormány az Áht. 33. § (2) bekezdésében biztosított jogkörében eljárva, az önkormányzatok érdekeit szem előtt tartva elrendeli az 1. melléklet IX. fejezet, Helyi önkormányzatok támogatásai című mellékletének módosítását.'}"
      ]
     },
     "execution_count": 30,
     "metadata": {},
     "output_type": "execute_result"
    }
   ],
   "source": [
    "client.summarization(text, size=\"small\")\n"
   ]
  }
 ],
 "metadata": {
  "kernelspec": {
   "display_name": ".venv",
   "language": "python",
   "name": "python3"
  },
  "language_info": {
   "codemirror_mode": {
    "name": "ipython",
    "version": 3
   },
   "file_extension": ".py",
   "mimetype": "text/x-python",
   "name": "python",
   "nbconvert_exporter": "python",
   "pygments_lexer": "ipython3",
   "version": "3.10.8"
  },
  "orig_nbformat": 4,
  "vscode": {
   "interpreter": {
    "hash": "ffb21471ad976a9e19141e6c8b02e72001afb30cb76a479459f34c814f5c07d9"
   }
  }
 },
 "nbformat": 4,
 "nbformat_minor": 2
}
